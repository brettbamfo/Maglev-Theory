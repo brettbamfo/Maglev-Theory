{
 "cells": [
  {
   "cell_type": "code",
   "execution_count": 28,
   "id": "09e60150",
   "metadata": {},
   "outputs": [],
   "source": [
    "from scipy.special import ellipk, ellipe\n",
    "from numpy import pi, sqrt, linspace, meshgrid, min, max, diff\n",
    "from pylab import plot, xlabel, ylabel, suptitle, legend, show, contourf, colorbar\n",
    "import matplotlib.pyplot as plt"
   ]
  },
  {
   "cell_type": "code",
   "execution_count": 192,
   "id": "bfb2187a",
   "metadata": {},
   "outputs": [],
   "source": [
    "uo = (4*pi)*(10**(-7))    # Permeability constant - units of Henry/meters or Newtons/Amps^2\n",
    "n = 2000 # turns 192\n",
    "I = 11 #linspace(7, 11, 91) # Current in lifting coil, A 11\n",
    "z = 0.07 #linspace(-0.09, 0.09, 100) # Position of perment mag from center of soilnoid, m 0.091\n",
    "L = 0.105 # Length of soilnoid, m 0.10\n",
    "d = 0.01905 # diameter of perment magnet, m 0.01905\n",
    "r = 0.0095 #d/2 # radius of perment magnet, m\n",
    "a = 0.0575 # Radius of the soilnoid, m 0.0334\n",
    "pdel = (z + L/2)\n",
    "ndel = (z - L/2)\n",
    "\n"
   ]
  },
  {
   "cell_type": "code",
   "execution_count": 193,
   "id": "b8bc23f6",
   "metadata": {},
   "outputs": [],
   "source": [
    "#kb = sqrt((4*a*r)/((a+r)**2 + (z + L/2)**2)) # k = f(radial and axial distance to meas. point, loop radius)\n",
    "#Kb = ellipk(kb**2)  # Elliptic integral, first kind, as a function of k\n",
    "#Eb = ellipe(kb**2)  # Elliptic integral, second kind, as a function of k\n",
    "\n",
    "#bi = (((kb**2)-2/kb)*Kb + (2/kb)*Eb)\n",
    "\n",
    "#print(bi) # is negative because magnet below the coil"
   ]
  },
  {
   "cell_type": "code",
   "execution_count": 194,
   "id": "0223aeff",
   "metadata": {},
   "outputs": [],
   "source": [
    "#ka = sqrt((4*a*r)/((a+r)**2 + (z - L/2)**2)) # k = f(radial and axial distance to meas. point, loop radius)\n",
    "#Ka = ellipk(ka**2)  # Elliptic integral, first kind, as a function of k\n",
    "#Ea = ellipe(ka**2)  # Elliptic integral, second kind, as a function of k\n",
    "\n",
    "#ai = (((ka**2)-2/ka)*Ka + (2/ka)*Ea)\n",
    "#print(ai) # is negative because magnet below the coil"
   ]
  },
  {
   "cell_type": "code",
   "execution_count": 195,
   "id": "fbc8f9db",
   "metadata": {},
   "outputs": [],
   "source": [
    "#Br1 = (uo*I/2*pi*L)*(sqrt(a/r))*(bi-ai) \n",
    "#print(Br1)"
   ]
  },
  {
   "cell_type": "code",
   "execution_count": 196,
   "id": "aea3fedf",
   "metadata": {
    "scrolled": true
   },
   "outputs": [],
   "source": [
    "#k = sqrt((4*a*r)/((a+r)**2 + ndel**2)) # k = f(radial and axial distance to meas. point, loop radius)\n",
    "#K = ellipk(k)  # Elliptic integral, first kind, as a function of k\n",
    "#E = ellipe(k)  # Elliptic integral, second kind, as a function of k\n",
    "\n",
    "#Br = (uo*I*n*ndel/2*pi*r*(((r+a)**2 + ndel**2)**1/2)) * (-K + ((a**2 + r**2 + ndel**2)/(a-r)**2 + ndel**2)*E)\n",
    "#print(\"Radial Component of Mag Field:\",Br,\"T\")\n",
    "\n",
    "# No lenght b/c in Saitoh's paper he was assuming a lifting coil with no lenght, not good\n",
    "\n"
   ]
  },
  {
   "cell_type": "code",
   "execution_count": 197,
   "id": "d0cfb15d",
   "metadata": {},
   "outputs": [],
   "source": [
    "#def D(z,Br):\n",
    "    #yp = diff(Br)/diff(z)   \n",
    "#print(yp)"
   ]
  },
  {
   "cell_type": "code",
   "execution_count": 198,
   "id": "0c0e8bdc",
   "metadata": {},
   "outputs": [],
   "source": [
    "#plt.plot(z, Br)\n",
    "#plt.show()"
   ]
  },
  {
   "cell_type": "code",
   "execution_count": 199,
   "id": "d19e4252-6f6d-47dc-a305-2facf2aff0eb",
   "metadata": {},
   "outputs": [
    {
     "name": "stdout",
     "output_type": "stream",
     "text": [
      "0.00013128018876762724\n",
      "0.138046994945765\n"
     ]
    }
   ],
   "source": [
    "kb = (4*a*r)/((a+r)**2 + (z + L/2)**2) # k = f(radial and axial distance to meas. point, loop radius)\n",
    "Kb = ellipk(kb)  # Elliptic integral, first kind, as a function of k\n",
    "Eb = ellipe(kb)  # Elliptic integral, second kind, as a function of k\n",
    "bi = (kb-2/sqrt(kb))*Kb + (2/sqrt(kb))*Eb\n",
    "\n",
    "ka = (4*a*r)/((a+r)**2 + (z - L/2)**2) # k = f(radial and axial distance to meas. point, loop radius)\n",
    "Ka = ellipk(ka)  # Elliptic integral, first kind, as a function of k\n",
    "Ea = ellipe(ka)  # Elliptic integral, second kind, as a function of k\n",
    "ai = (ka-2/sqrt(ka))*Ka + (2/sqrt(ka))*Ea\n",
    "\n",
    "\n",
    "Br2 = (uo*I*n/2*pi*L)*(sqrt(a/r))*(bi - ai)\n",
    "\n",
    "vv = bi - ai\n",
    "\n",
    "print(Br2)\n",
    "print(vv)"
   ]
  },
  {
   "cell_type": "code",
   "execution_count": 200,
   "id": "87f6d502-3e58-42c4-b6c5-7032f9790fe8",
   "metadata": {},
   "outputs": [
    {
     "name": "stdout",
     "output_type": "stream",
     "text": [
      "0.00013128018876762724\n",
      "0.138046994945765\n"
     ]
    }
   ],
   "source": [
    "kb2 = sqrt((4*a*r)/((a+r)**2 + (z + L/2)**2)) # k = f(radial and axial distance to meas. point, loop radius)\n",
    "Kb2 = ellipk(kb2**2)  # Elliptic integral, first kind, as a function of k\n",
    "Eb2 = ellipe(kb2**2)  # Elliptic integral, second kind, as a function of k\n",
    "bi2 = (kb2**2 - 2/kb2)*Kb2 + (2/kb2)*Eb2\n",
    "\n",
    "ka2 = sqrt((4*a*r)/((a+r)**2 + (z - L/2)**2)) # k = f(radial and axial distance to meas. point, loop radius)\n",
    "Ka2 = ellipk(ka2**2)  # Elliptic integral, first kind, as a function of k\n",
    "Ea2 = ellipe(ka2**2)  # Elliptic integral, second kind, as a function of k\n",
    "ai2 = (ka2**2 - 2/ka2)*Ka2 + (2/ka2)*Ea2\n",
    "\n",
    "\n",
    "Br3 = (uo*I*n/2*pi*L)*(sqrt(a/r))*(bi2 - ai2)\n",
    "\n",
    "vvv = bi2 - ai2\n",
    "\n",
    "print(Br3)\n",
    "print(vvv)"
   ]
  },
  {
   "cell_type": "code",
   "execution_count": null,
   "id": "fc6187ec-6c9a-4fa1-b3a5-c70fa0f46663",
   "metadata": {},
   "outputs": [],
   "source": []
  }
 ],
 "metadata": {
  "kernelspec": {
   "display_name": "Python 3 (ipykernel)",
   "language": "python",
   "name": "python3"
  },
  "language_info": {
   "codemirror_mode": {
    "name": "ipython",
    "version": 3
   },
   "file_extension": ".py",
   "mimetype": "text/x-python",
   "name": "python",
   "nbconvert_exporter": "python",
   "pygments_lexer": "ipython3",
   "version": "3.10.9"
  }
 },
 "nbformat": 4,
 "nbformat_minor": 5
}
